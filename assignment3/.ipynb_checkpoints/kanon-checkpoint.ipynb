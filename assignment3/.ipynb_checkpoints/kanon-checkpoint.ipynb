{
 "cells": [
  {
   "cell_type": "code",
   "execution_count": 1,
   "metadata": {
    "collapsed": true
   },
   "outputs": [],
   "source": [
    "import pandas as pd\n",
    "import numpy as np\n",
    "import sys"
   ]
  },
  {
   "cell_type": "code",
   "execution_count": 2,
   "metadata": {
    "collapsed": true
   },
   "outputs": [],
   "source": [
    "K=4\n",
    "MAX_NUMBER_SET = 5"
   ]
  },
  {
   "cell_type": "code",
   "execution_count": 3,
   "metadata": {
    "collapsed": true
   },
   "outputs": [],
   "source": [
    "def ktest(df):\n",
    "\n",
    "    return df.groupby(0).count().min().iloc[0]"
   ]
  },
  {
   "cell_type": "code",
   "execution_count": 4,
   "metadata": {
    "collapsed": true
   },
   "outputs": [],
   "source": [
    "def cost(df):\n",
    "    medium = round(np.median(df))\n",
    "    return sum(abs(df-medium))"
   ]
  },
  {
   "cell_type": "code",
   "execution_count": null,
   "metadata": {
    "scrolled": true
   },
   "outputs": [],
   "source": [
    "df = pd.read_csv('datafile2 copy.txt',header=None)\n",
    "if ktest(df) >= K:\n",
    "    exit(0)\n",
    "MAX_NUMBER_SET = len(df) / K\n",
    "unsorted = df[0]\n",
    "sortIndex = np.argsort(df[0])\n",
    "sortedList = np.array([df[0][i] for i in np.argsort(df[0])])\n",
    "costTable = np.zeros([len(df),MAX_NUMBER_SET+1 ])\n",
    "splitTable= np.zeros([len(df),MAX_NUMBER_SET+1 ])\n",
    "prevDict = {}\n",
    "for j in range(1,MAX_NUMBER_SET,1):\n",
    "    \n",
    "    for i in range(K-1, len(df),1):\n",
    "        if j == 1:\n",
    "            costTable[i][j] = cost(sortedList[: i + 1])\n",
    "            splitTable[i][j] = i\n",
    "#             print costTable\n",
    "            continue\n",
    "\n",
    "#             print i\n",
    "        # when new set is not added in\n",
    "        minCost = costTable[i][j -1]\n",
    "        splitTable[i][j] = splitTable[i][j-1]\n",
    "        splitIndex = 0\n",
    "        \n",
    "#         print splitTable[i][j-1] + 4, i-3\n",
    "        for split in range(int(min(splitTable[K-1:,j-1])+4), i+1, 1):\n",
    "            \n",
    "            splitCost = costTable[split-4][j-1] + cost(sortedList[split-3: i+1])\n",
    "                \n",
    "            if splitCost < minCost:\n",
    "                minCost = splitCost\n",
    "                \n",
    "                splitIndex = split\n",
    "                splitTable[i][j] = split\n",
    "                prevDict[(i,j)] = (split-4, j-1)\n",
    "        costTable[i][j] = minCost"
   ]
  },
  {
   "cell_type": "code",
   "execution_count": null,
   "metadata": {},
   "outputs": [],
   "source": [
    "prevDict"
   ]
  },
  {
   "cell_type": "code",
   "execution_count": 29,
   "metadata": {
    "collapsed": true,
    "scrolled": true
   },
   "outputs": [],
   "source": [
    "def getSplitList(dictionary):\n",
    "    currentSplit = max(dictionary, key=lambda x: x[0] * 10000000 + x[1])\n",
    "    splitList = [currentSplit[0]]\n",
    "    while(currentSplit in dictionary):\n",
    "        currentSplit = dictionary[currentSplit]\n",
    "        splitList.append(currentSplit[0])\n",
    "    return sorted(splitList)"
   ]
  },
  {
   "cell_type": "code",
   "execution_count": 30,
   "metadata": {
    "collapsed": true
   },
   "outputs": [],
   "source": [
    "def transformAnon(ls, dictionary):\n",
    "    splitList = getSplitList(dictionary)\n",
    "    lastSplit = -1\n",
    "    output = []\n",
    "    for split in splitList:\n",
    "        median = int(round(np.median(ls[lastSplit +1: split+1])))\n",
    "        output += [median] * (split - lastSplit)\n",
    "        lastSplit = split\n",
    "    return output"
   ]
  },
  {
   "cell_type": "code",
   "execution_count": 31,
   "metadata": {
    "collapsed": true,
    "scrolled": true
   },
   "outputs": [],
   "source": [
    "transformedList = transformAnon(sortedList, prevDict)"
   ]
  },
  {
   "cell_type": "code",
   "execution_count": 32,
   "metadata": {
    "collapsed": true
   },
   "outputs": [],
   "source": [
    "reverseSortIndex = np.argsort( sortIndex)"
   ]
  },
  {
   "cell_type": "code",
   "execution_count": 33,
   "metadata": {},
   "outputs": [
    {
     "data": {
      "text/plain": [
       "[24, 24, 24, 24, 29, 29, 29, 29, 34, 34, 34, 34]"
      ]
     },
     "execution_count": 33,
     "metadata": {},
     "output_type": "execute_result"
    }
   ],
   "source": [
    "outputList = [ transformedList[rIndex] for rIndex in reverseSortIndex]\n",
    "outputList"
   ]
  },
  {
   "cell_type": "code",
   "execution_count": 55,
   "metadata": {
    "collapsed": true
   },
   "outputs": [],
   "source": [
    "df = pd.read_csv('datafile2.txt',header=None)\n",
    "df[0] = outputList\n",
    "df.to_csv('datafile2_ans.txt',header=None, index=None)"
   ]
  },
  {
   "cell_type": "code",
   "execution_count": 24,
   "metadata": {},
   "outputs": [
    {
     "name": "stdout",
     "output_type": "stream",
     "text": [
      "80\n",
      "80\n",
      "4\n"
     ]
    }
   ],
   "source": [
    "print sum(abs(np.array(outputList) - pd.read_csv('datafile2.txt',header=None)[0]) )\n",
    "print sum(abs(pd.read_csv('datafile2_out.txt',header=None)[0] - pd.read_csv('datafile2.txt',header=None)[0]) )\n",
    "print sum(abs(np.array(outputList) - pd.read_csv('datafile2_out.txt',header=None)[0]))"
   ]
  },
  {
   "cell_type": "code",
   "execution_count": null,
   "metadata": {
    "collapsed": true
   },
   "outputs": [],
   "source": []
  }
 ],
 "metadata": {
  "kernelspec": {
   "display_name": "Python 2",
   "language": "python",
   "name": "python2"
  },
  "language_info": {
   "codemirror_mode": {
    "name": "ipython",
    "version": 2
   },
   "file_extension": ".py",
   "mimetype": "text/x-python",
   "name": "python",
   "nbconvert_exporter": "python",
   "pygments_lexer": "ipython2",
   "version": "2.7.10"
  }
 },
 "nbformat": 4,
 "nbformat_minor": 2
}
