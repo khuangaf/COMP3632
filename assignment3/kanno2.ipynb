{
 "cells": [
  {
   "cell_type": "code",
   "execution_count": 52,
   "metadata": {},
   "outputs": [],
   "source": [
    "from mondrian import mondrian\n",
    "import sys, copy, random, pdb\n",
    "import pandas as pd\n",
    "import numpy as np\n",
    "RELAX = False \n",
    "data = list(np.array(pd.read_csv('../datafile4',header = None)))\n",
    "data = [ list(d) for d in data]\n",
    "data_back = copy.deepcopy(data)\n",
    "\n",
    "result, eval_result = mondrian(data, 4, RELAX)\n",
    "\n"
   ]
  },
  {
   "cell_type": "code",
   "execution_count": 53,
   "metadata": {
    "collapsed": true
   },
   "outputs": [],
   "source": [
    "def sumRow(row):\n",
    "    output = ''\n",
    "    for i in range(len(row)):\n",
    "        output+= row[i]\n",
    "    return output"
   ]
  },
  {
   "cell_type": "code",
   "execution_count": 54,
   "metadata": {
    "collapsed": true
   },
   "outputs": [],
   "source": [
    "df = pd.DataFrame(np.array(data)[:,:-1])\n",
    "aggDf = pd.DataFrame(np.array(data_back)[:,:-1])\n",
    "outputDf = aggDf\n",
    "aggDf['steeveissmart'] = pd.DataFrame(np.array(data)[:,:-1]).apply(sumRow, axis=1)"
   ]
  },
  {
   "cell_type": "code",
   "execution_count": 55,
   "metadata": {
    "scrolled": true
   },
   "outputs": [],
   "source": [
    "aggGroupDf = aggDf.groupby('steeveissmart').agg(np.median).applymap(lambda x: int(round(x)))"
   ]
  },
  {
   "cell_type": "code",
   "execution_count": 56,
   "metadata": {},
   "outputs": [],
   "source": [
    "outputList = [ aggGroupDf.loc[steeve] for steeve in outputDf['steeveissmart']]"
   ]
  },
  {
   "cell_type": "code",
   "execution_count": 57,
   "metadata": {},
   "outputs": [],
   "source": [
    "pd.DataFrame(np.concatenate([np.array(outputList),(np.array(data_back)[:,-1][:, None])],axis=1)).to_csv('temp',header=None, index=None)"
   ]
  },
  {
   "cell_type": "code",
   "execution_count": 58,
   "metadata": {},
   "outputs": [
    {
     "data": {
      "text/plain": [
       "4"
      ]
     },
     "execution_count": 58,
     "metadata": {},
     "output_type": "execute_result"
    }
   ],
   "source": [
    "dd = pd.read_csv('temp',header=None)\n",
    "min(dd.groupby(range(6)).agg('count')[6])"
   ]
  },
  {
   "cell_type": "code",
   "execution_count": null,
   "metadata": {
    "collapsed": true
   },
   "outputs": [],
   "source": []
  }
 ],
 "metadata": {
  "kernelspec": {
   "display_name": "Python 2",
   "language": "python",
   "name": "python2"
  },
  "language_info": {
   "codemirror_mode": {
    "name": "ipython",
    "version": 2
   },
   "file_extension": ".py",
   "mimetype": "text/x-python",
   "name": "python",
   "nbconvert_exporter": "python",
   "pygments_lexer": "ipython2",
   "version": "2.7.10"
  }
 },
 "nbformat": 4,
 "nbformat_minor": 2
}
